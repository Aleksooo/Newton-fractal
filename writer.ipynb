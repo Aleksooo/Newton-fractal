{
 "cells": [
  {
   "cell_type": "code",
   "execution_count": 4,
   "metadata": {},
   "outputs": [],
   "source": [
    "import json\n",
    "from math import sqrt, cos, sin, radians, pi"
   ]
  },
  {
   "cell_type": "code",
   "execution_count": 8,
   "metadata": {},
   "outputs": [],
   "source": [
    "data = {\n",
    "    'WIDTH': int(1000), \n",
    "    'HEIGHT': int(1000),\n",
    "    'x_left': float(-1), \n",
    "    'x_right': float(1), \n",
    "    'y_up': float(-1), \n",
    "    'y_down': float(1),\n",
    "    'DEEP': int(10),\n",
    "    'roots': [\n",
    "        (1.0, 0.0), \n",
    "        (cos(pi / 6), sin(pi / 6)),\n",
    "        (cos(4 * pi / 3), sin(4 * pi / 3)),\n",
    "        (cos(3 * pi / 4), sin(3 * pi / 4)),\n",
    "        ]\n",
    "    # 'roots' : [\n",
    "    #     (1.0, 0.0),\n",
    "    #     (cos(2 * pi / 3), sin(2 * pi / 3)),\n",
    "    #     (cos(4 * pi / 3), sin(4 * pi / 3)),\n",
    "    # ]\n",
    "}\n",
    "\n",
    "with open(\"config.json\", 'w') as conf:\n",
    "    json.dump(data, conf)"
   ]
  }
 ],
 "metadata": {
  "kernelspec": {
   "display_name": "Python 3.8.5 64-bit",
   "language": "python",
   "name": "python3"
  },
  "language_info": {
   "codemirror_mode": {
    "name": "ipython",
    "version": 3
   },
   "file_extension": ".py",
   "mimetype": "text/x-python",
   "name": "python",
   "nbconvert_exporter": "python",
   "pygments_lexer": "ipython3",
   "version": "3.8.5"
  },
  "orig_nbformat": 4,
  "vscode": {
   "interpreter": {
    "hash": "0adcc2737ebf6a4a119f135174df96668767fca1ef1112612db5ecadf2b6d608"
   }
  }
 },
 "nbformat": 4,
 "nbformat_minor": 2
}
